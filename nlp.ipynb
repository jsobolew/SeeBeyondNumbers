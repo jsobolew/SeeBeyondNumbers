{
 "cells": [
  {
   "cell_type": "code",
   "execution_count": 8,
   "metadata": {},
   "outputs": [],
   "source": [
    "from fuzzywuzzy import fuzz\n",
    "from fuzzywuzzy import process\n",
    "\n",
    "columns1 = ['FUNDUSZ', 'NAZWA PAPIERU NAZWA PEŁNA', 'Unnamed: 0', 'KOD PAPIERU',\n",
    "       'EMITENT', 'KRAJ SIEDZIBY EMITENTA', 'WALUTA', 'TYP INSTRUMENTU',\n",
    "       'ILOŚĆ', 'CENA', 'Unnamed: 1', 'WARTOŚĆ RYNKOWA W PLN',\n",
    "       'UDZIAŁ % W AKTYWACH']\n",
    "       \n",
    "columns2 = ['Identyfikator\\rfunduszu lub\\rSubfunduszu', 'Pełna\\rnazwa\\rfunduszu',\n",
    "       'Nazwa\\rsubfunduszu', 'Typ\\rfunduszu',\n",
    "       'Standardowy\\ridentyfikator\\rsubfunduszu',\n",
    "       'Waluta\\rwyceny\\raktywów i\\rzobowiązań\\rfunduszu', 'Nazwa emitenta',\n",
    "       'Identyfikator\\rinstrumentu\\r- kod ISIN',\n",
    "       'Inny niż\\rkod ISIN\\rstandardowy\\ridentyfikator\\rinstrumentu',\n",
    "       'Typ\\rinstrumentu', 'Kategoria\\rinstrumentu', 'Kraj\\remitenta',\n",
    "       'Waluta\\rwykorzystywana\\rdo wyceny\\rinstrumentu',\n",
    "       'Ilość\\rinstrumentu\\rw portfelu',\n",
    "       'Wartość\\rinstrumentu\\rw walucie\\rwyceny\\rfunduszu',\n",
    "       'Informacje\\ruzupełniające']\n",
    "for i in range(0, len(columns2)):\n",
    "    columns2[i] = columns2[i].replace('\\r', '')\n",
    "\n"
   ]
  },
  {
   "cell_type": "code",
   "execution_count": 9,
   "metadata": {},
   "outputs": [],
   "source": [
    "from googletrans import Translator\n",
    "\n",
    "def tanslate(txt):\n",
    "    \"\"\"\n",
    "    runs str thorugh Google Translate\n",
    "    :param txt:\n",
    "    :return:\n",
    "    \"\"\"\n",
    "    translator = Translator()\n",
    "    txt_trans = translator.translate(txt, src='pl', dest='en').text\n",
    "    return str(txt_trans)\n"
   ]
  },
  {
   "cell_type": "code",
   "execution_count": 10,
   "metadata": {},
   "outputs": [],
   "source": [
    "for i in range(0, len(columns1)):\n",
    "    columns1[i] = tanslate(columns1[i])"
   ]
  },
  {
   "cell_type": "code",
   "execution_count": 11,
   "metadata": {},
   "outputs": [],
   "source": [
    "for i in range(0, len(columns2)):\n",
    "    columns2[i] = tanslate(columns2[i])"
   ]
  },
  {
   "cell_type": "code",
   "execution_count": 15,
   "metadata": {},
   "outputs": [
    {
     "name": "stdout",
     "output_type": "stream",
     "text": [
      "FUND >>> Fund or subfund identifier\n",
      "Paper name Full name >>> Issuer name\n",
      "Unnamed: 0 >>> Full name of the Fund\n",
      "Paper code >>> ID ID- ISIN CODE\n",
      "Issuer >>> Issuer name\n",
      "Country of the Issuer's headquarters >>> Full name of the Fund\n",
      "CURRENCY >>> Currency of the valuation of the Fund's assets and obligations\n",
      "Instrument type >>> Standard instrument identifier other than the ISIN code\n",
      "QUANTITY >>> Type installation\n",
      "PRICE >>> Type installation\n",
      "Unnamed: 1 >>> Full name of the Fund\n",
      "Market value in PLN >>> Number of instruments in the wallet\n",
      "Party % in assets >>> Currency of the valuation of the Fund's assets and obligations\n"
     ]
    }
   ],
   "source": [
    "for c in columns1:\n",
    "    print(c + \" >>> \" + str(process.extractOne(c, columns2)[0]))\n",
    "    "
   ]
  }
 ],
 "metadata": {
  "kernelspec": {
   "display_name": "Python 3.10.8 64-bit (microsoft store)",
   "language": "python",
   "name": "python3"
  },
  "language_info": {
   "codemirror_mode": {
    "name": "ipython",
    "version": 3
   },
   "file_extension": ".py",
   "mimetype": "text/x-python",
   "name": "python",
   "nbconvert_exporter": "python",
   "pygments_lexer": "ipython3",
   "version": "3.10.8"
  },
  "orig_nbformat": 4,
  "vscode": {
   "interpreter": {
    "hash": "be6c8dbfa32eb310b18f6fdd9456f2f77513e7b14a3bf84a90c4efc5984f7b95"
   }
  }
 },
 "nbformat": 4,
 "nbformat_minor": 2
}
