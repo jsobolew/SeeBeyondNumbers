{
 "cells": [
  {
   "cell_type": "code",
   "execution_count": 78,
   "metadata": {},
   "outputs": [],
   "source": [
    "import numpy as np\n",
    "import PyPDF2\n",
    "from googletrans import Translator"
   ]
  },
  {
   "cell_type": "code",
   "execution_count": 107,
   "metadata": {},
   "outputs": [],
   "source": [
    "# FUNCTIONS\n",
    "import re\n",
    "alphabets= \"([A-Za-z])\"\n",
    "prefixes = \"(Mr|St|Mrs|Ms|Dr)[.]\"\n",
    "suffixes = \"(Inc|Ltd|Jr|Sr|Co)\"\n",
    "starters = \"(Mr|Mrs|Ms|Dr|He\\s|She\\s|It\\s|They\\s|Their\\s|Our\\s|We\\s|But\\s|However\\s|That\\s|This\\s|Wherever)\"\n",
    "acronyms = \"([A-Z][.][A-Z][.](?:[A-Z][.])?)\"\n",
    "websites = \"[.](com|net|org|io|gov)\"\n",
    "digits = \"([0-9])\"\n",
    "\n",
    "def split_into_sentences(text):\n",
    "    text = \" \" + text + \"  \"\n",
    "    text = text.replace(\"\\n\",\" \")\n",
    "    text = re.sub(prefixes,\"\\\\1<prd>\",text)\n",
    "    text = re.sub(websites,\"<prd>\\\\1\",text)\n",
    "    text = re.sub(digits + \"[.]\" + digits,\"\\\\1<prd>\\\\2\",text)\n",
    "    if \"...\" in text: text = text.replace(\"...\",\"<prd><prd><prd>\")\n",
    "    if \"Ph.D\" in text: text = text.replace(\"Ph.D.\",\"Ph<prd>D<prd>\")\n",
    "    text = re.sub(\"\\s\" + alphabets + \"[.] \",\" \\\\1<prd> \",text)\n",
    "    text = re.sub(acronyms+\" \"+starters,\"\\\\1<stop> \\\\2\",text)\n",
    "    text = re.sub(alphabets + \"[.]\" + alphabets + \"[.]\" + alphabets + \"[.]\",\"\\\\1<prd>\\\\2<prd>\\\\3<prd>\",text)\n",
    "    text = re.sub(alphabets + \"[.]\" + alphabets + \"[.]\",\"\\\\1<prd>\\\\2<prd>\",text)\n",
    "    text = re.sub(\" \"+suffixes+\"[.] \"+starters,\" \\\\1<stop> \\\\2\",text)\n",
    "    text = re.sub(\" \"+suffixes+\"[.]\",\" \\\\1<prd>\",text)\n",
    "    text = re.sub(\" \" + alphabets + \"[.]\",\" \\\\1<prd>\",text)\n",
    "    if \"”\" in text: text = text.replace(\".”\",\"”.\")\n",
    "    if \"\\\"\" in text: text = text.replace(\".\\\"\",\"\\\".\")\n",
    "    if \"!\" in text: text = text.replace(\"!\\\"\",\"\\\"!\")\n",
    "    if \"?\" in text: text = text.replace(\"?\\\"\",\"\\\"?\")\n",
    "    text = text.replace(\".\",\".<stop>\")\n",
    "    text = text.replace(\"?\",\"?<stop>\")\n",
    "    text = text.replace(\"!\",\"!<stop>\")\n",
    "    text = text.replace(\"<prd>\",\".\")\n",
    "    sentences = text.split(\"<stop>\")\n",
    "    sentences = sentences[:-1]\n",
    "    sentences = [s.strip() for s in sentences]\n",
    "    return sentences\n",
    "\n",
    "def ToString(value):\n",
    "    return ''.join(value.splitlines())\n"
   ]
  },
  {
   "cell_type": "markdown",
   "metadata": {},
   "source": [
    "# Workflow\n",
    "1) read file\n",
    "2) check for spelling\n",
    "3) translate to english\n",
    "4) find interesting data"
   ]
  },
  {
   "cell_type": "code",
   "execution_count": 76,
   "metadata": {},
   "outputs": [],
   "source": [
    "# 1\n",
    "f = open('BNP_cel_pl.txt','r',encoding='utf8')\n",
    "BNP_cel_pl = f.read()\n",
    "f.close()\n",
    "# print(BNP_cel_pl)"
   ]
  },
  {
   "cell_type": "code",
   "execution_count": 77,
   "metadata": {},
   "outputs": [
    {
     "name": "stderr",
     "output_type": "stream",
     "text": [
      "Downloading LanguageTool 5.7: 100%|██████████| 225M/225M [00:19<00:00, 11.5MB/s] \n",
      "Unzipping C:\\Users\\x270\\AppData\\Local\\Temp\\tmpniiica_g.zip to C:\\Users\\x270\\.cache\\language_tool_python.\n",
      "Downloaded https://www.languagetool.org/download/LanguageTool-5.7.zip to C:\\Users\\x270\\.cache\\language_tool_python.\n"
     ]
    }
   ],
   "source": [
    "# 2\n",
    "import language_tool_python\n",
    "tool = language_tool_python.LanguageTool('pl-PL')\n",
    "BNP_cel_pl = tool.correct(BNP_cel_pl)"
   ]
  },
  {
   "cell_type": "code",
   "execution_count": 94,
   "metadata": {},
   "outputs": [],
   "source": [
    "# 3\n",
    "from googletrans import Translator\n",
    "\n",
    "txt_trans = \"\"\n",
    "translator = Translator()\n",
    "for i in range(int(np.ceil(len(BNP_cel_pl))/5000)+1):\n",
    "    txt_trans += translator.translate(func(BNP_cel_pl)[5000*i:5000*(i+1)],src='pl', dest='en').text"
   ]
  },
  {
   "cell_type": "code",
   "execution_count": 112,
   "metadata": {},
   "outputs": [
    {
     "data": {
      "text/plain": [
       "['The investment goal of the SUB Fund is to increase the value of SUB Fund assets as a result of an increase in the value of deposits.',\n",
       " 'Including the next sentence, the Fund may place from 70% to 110% of the net assets of the sub -fund in shares and other share instruments, i.e. the right to action, conscription rights, subscription warrants, replacement bonds for shares and deposit receipts.',\n",
       " 'When applying the limit referred to in the preceding sentence, the Fund is obliged to take into account the amount of involvement in derivative instruments and the value of rights to new issue of shares.',\n",
       " 'Fund may locate from 0% to 30% of the net assets of the Sub Fund in debt instruments, i.e. Bonds, tax bills, pledge letters, deposit certificates, money market instruments.',\n",
       " 'Debt instruments in which SUB Fund assets are located can be issued by enterprises, public authorities or other entities.',\n",
       " 'The Fund may invest up to 20% of the Sub Fund assets in total in participation units of other open investment funds and the participation titles of other foreign funds and joint investment institutions .',\n",
       " 'Fundusz może zawierać umowy mające za przedmiot instrumentypochodne w celu ograniczenia ryzyka oraz zapewnienia sprawnegozarządzania portfelem.',\n",
       " 'Sub fundusz zbywa jednostki uczestnictwa kategorii A bez ograniczeń,kategoria C jest zbywana w ramach oferowanych przez Funduszróżnych programów jak przykładowopracownicze programy emerytalne.',\n",
       " 'Inwestycyjnych takich Sub fundusz nie wypłaca dywidend .',\n",
       " 'The income of the Fundsune is increased by its assets and are reinvested.',\n",
       " 'The Fund is selling and redeemed units of participation every day.',\n",
       " 'From the MWIG40 index and 10% from the Winid O/N.',\n",
       " 'Na/N.',\n",
       " 'Na: this Sub Fund may not be the right investors who plan to withdraw their funds within 5 years.']"
      ]
     },
     "execution_count": 112,
     "metadata": {},
     "output_type": "execute_result"
    }
   ],
   "source": [
    "split_into_sentences(txt_trans)"
   ]
  },
  {
   "cell_type": "code",
   "execution_count": 111,
   "metadata": {},
   "outputs": [
    {
     "data": {
      "text/plain": [
       "'Including the next sentence, the Fund may place from 70% to 110% of the net assets of the sub -fund in shares and other share instruments, i.e. the right to action, conscription rights, subscription warrants, replacement bonds for shares and deposit receipts.'"
      ]
     },
     "execution_count": 111,
     "metadata": {},
     "output_type": "execute_result"
    }
   ],
   "source": [
    "# 4 split into sentences\n",
    "\n",
    "split_into_sentences(txt_trans)[1]"
   ]
  },
  {
   "cell_type": "code",
   "execution_count": null,
   "metadata": {},
   "outputs": [],
   "source": [
    "curr_txt = split_into_sentences(txt_trans)[1]\n",
    "\n"
   ]
  },
  {
   "cell_type": "code",
   "execution_count": 100,
   "metadata": {},
   "outputs": [
    {
     "data": {
      "text/plain": [
       "7"
      ]
     },
     "execution_count": 100,
     "metadata": {},
     "output_type": "execute_result"
    }
   ],
   "source": [
    "txt_trans[188+1:].find(\"%\")"
   ]
  },
  {
   "cell_type": "code",
   "execution_count": 102,
   "metadata": {},
   "outputs": [
    {
     "data": {
      "text/plain": [
       "' from 70% to 110% of the net assets of the sub -fund in shares and other share instruments, i.e. the right to action, conscription rights, subscription warrants, replacement bonds for shares and deposit receipts. When applying the limit referred to in the preceding sentence, the Fund is obliged to take into account the amount of involvement in derivative instruments and the value of rights to new issue of shares. Fund may locate from 0% to 30% of the net assets of the Sub Fund in debt instruments, i.e. Bonds, tax bills, pledge letters, deposit certificates, money market instruments. Debt instruments in which SUB Fund assets are located can be issued by enterprises, public authorities or other entities. The Fund may invest up to 20% of the Sub Fund assets in total in participation units of other open investment funds and the participation titles of other foreign funds and joint investment institutions .Fundusz może zawierać umowy mające za przedmiot instrumentypochodne w celu ograniczenia ryzyka oraz zapewnienia sprawnegozarządzania portfelem.Sub fundusz zbywa jednostki uczestnictwa kategorii A bez ograniczeń,kategoria C jest zbywana w ramach oferowanych przez Funduszróżnych programów jak przykładowopracownicze programy emerytalne.Inwestycyjnych takich Sub fundusz nie wypłaca dywidend . The income of the Fundsune is increased by its assets and are reinvested. The Fund is selling and redeemed units of participation every day. From the MWIG40 index and 10% from the Winid O/N. Na/N. Na: this Sub Fund may not be the right investors who plan to withdraw their funds within 5 years.'"
      ]
     },
     "execution_count": 102,
     "metadata": {},
     "output_type": "execute_result"
    }
   ],
   "source": [
    "txt_trans[180:]"
   ]
  },
  {
   "cell_type": "code",
   "execution_count": 91,
   "metadata": {},
   "outputs": [
    {
     "data": {
      "text/plain": [
       "'\\nCelem inwestycyjnym Sub funduszu jest wzrost wartości Aktywów \\nSub funduszu w wyniku wzrostu wartości lokat.\\n\\nZ uwzględnieniem zdania następnego, Fundusz może lokować \\nod 70% do 110% Wartości Aktywów Netto Sub funduszu w akcje oraz \\ninne instrumenty o charakterze udziałowym, tj. prawa do akcji, prawa \\npoboru, warranty subskrypcyjne, obligacje zamienne na akcje i kwity \\ndepozytowe.  Przy stosowaniu limitu, o którym mowa w zdaniu \\npoprzedzającym, Fundusz jest obowiązany uwzględniać kwotę \\nzaangażowania w Instrumenty Pochodne oraz wartość praw \\ndo nowych emisji akcji.\\n\\nFundusz może lokować od 0% do 30% Wartości Aktywów Netto \\nSub funduszu w instrumenty o charakterze dłużnym, tj. obligacje, bony \\nskarbowe, listy zastawne, certyfikaty depozytowe, Instrumenty Rynku \\nPieniężnego.  Instrumenty dłużne, w które lokowane są aktywa \\nSub funduszu, mogą być emitowane przez przedsiębiorstwa, \\nwładze publiczne lub inne podmioty.\\n\\nFundusz może inwestować do 20% wartości Aktywów Sub funduszu \\nłącznie w jednostki uczestnictwa innych funduszy inwestycyjnych \\notwartych oraz tytuły uczestnictwa innych funduszy zagranicznych\\n\\nI instytucji wspólnego inwestowania.\\n\\nFundusz może zawierać umowy mające za przedmiot instrumenty\\npochodne w celu ograniczenia ryzyka oraz zapewnienia sprawnego\\nzarządzania portfelem.\\n\\nSub fundusz zbywa jednostki uczestnictwa kategorii A bez ograniczeń,\\nkategoria C jest zbywana w ramach oferowanych przez Fundusz\\nróżnych programów \\njak przykładowo\\npracownicze programy emerytalne.\\n\\nInwestycyjnych takich \\n\\nSub fundusz nie wypłaca dywidend.  Dochody Sub funduszu\\npowiększają jego aktywa i są reinwestowane.\\n\\nFundusz zbywa i odkupuje Jednostki Uczestnictwa w każdym Dniu\\nWyceny.\\n\\nWzorcem \\n(benchmarkiem) służącym do oceny efektywności\\ninwestycji w Jednostki Uczestnictwa Sub funduszu jest stopa zwrotu\\nskładająca się w 60% ze stopy zwrotu z indeksu WIG20, 30% ze stopy\\nzwrotu z indeksu mWIG40 oraz 10% ze stawki WINID O/N.\\n\\nZalecenie: Niniejszy Sub fundusz może nie być odpowiedni\\ndla inwestorów, którzy planują wycofać swoje środki w ciągu 5 lat.'"
      ]
     },
     "execution_count": 91,
     "metadata": {},
     "output_type": "execute_result"
    }
   ],
   "source": [
    "BNP_cel_pl"
   ]
  },
  {
   "cell_type": "code",
   "execution_count": 65,
   "metadata": {},
   "outputs": [],
   "source": [
    "from io import StringIO\n",
    "from pdfminer.high_level import extract_text\n",
    "\n",
    "def get_text_from_PDF_miner(kiid_path):\n",
    "  text = extract_text(kiid_path)\n",
    "  return text"
   ]
  },
  {
   "cell_type": "code",
   "execution_count": 66,
   "metadata": {},
   "outputs": [],
   "source": [
    "txt = get_text_from_PDF_miner(\"KIID_BNP_Paribas_DI_2022-09-21.pdf\")"
   ]
  },
  {
   "cell_type": "code",
   "execution_count": 62,
   "metadata": {},
   "outputs": [],
   "source": [
    "txt = \"\"\n",
    "\n",
    "with open(\"KIID_BNP_Paribas_DI_2022-09-21.pdf\", \"rb\") as pdf_file:\n",
    "    read_pdf = PyPDF2.PdfFileReader(pdf_file)\n",
    "    for i in range(read_pdf.numPages):\n",
    "        page = read_pdf.pages[i]\n",
    "        page_content = page.extractText()\n",
    "        txt += page_content"
   ]
  },
  {
   "cell_type": "code",
   "execution_count": 31,
   "metadata": {},
   "outputs": [],
   "source": [
    "def func(value):\n",
    "    return ''.join(value.splitlines())\n",
    "\n",
    "def translateText(inputTxt):\n",
    "    translator = Translator()"
   ]
  },
  {
   "cell_type": "code",
   "execution_count": 85,
   "metadata": {},
   "outputs": [
    {
     "data": {
      "text/plain": [
       "2"
      ]
     },
     "execution_count": 85,
     "metadata": {},
     "output_type": "execute_result"
    }
   ],
   "source": [
    "int(np.ceil(len(txt))/5000)"
   ]
  },
  {
   "cell_type": "code",
   "execution_count": 88,
   "metadata": {},
   "outputs": [],
   "source": [
    "from googletrans import Translator\n",
    "\n",
    "txt_trans = \"\"\n",
    "translator = Translator()\n",
    "for i in range(int(np.ceil(len(txt))/5000)):\n",
    "    txt_trans += translator.translate(func(txt)[5000*i:5000*(i+1)],src='pl', dest='en').text"
   ]
  },
  {
   "cell_type": "code",
   "execution_count": 89,
   "metadata": {},
   "outputs": [
    {
     "data": {
      "text/plain": [
       "'Key information for the investor\\'s document contains key information for investors regarding this fund. These are not marketing materials. Providing this information is a legal requirement aimed at facilitating the understanding of the nature and risk of investing in this fund. Reading this document is recommended to the investor so that he can make an informed investment decision. The investment fund) The fund is entered in the Registry of Investment Funds under RFI 1650 Fund is managed by BNP Paribas Towarzystwo Funduszy Inwestycyjny The next sentence, the fund may locate from 70% to 110% of the net assets of the sub -fund in shares and other share instruments, i.e. the right to shares, the right of conscription, subscription warrants, replacement bonds for shares and deposit shares Tym. When applying the limit referred to in the preceding sentence, the Fund is obliged to take into account the amount of involvement in derivative instruments and the value of rights to new issue of shares. Fund may invest from 0% to 30% of the value of the subfund\\'s net assets in debt instruments, i.e. bonds , treasury bills, pledge letters, deposit certificates, money market instruments. Debt instruments in which the assets of the subfund are placed can be issued by enterprises, public authorities or other entities. Fund may invest up to 20% of the value of subfund\\'s assets together in units of participation of other open investment funds and the participation of other foreign funds of risk and profit. Potentially lower profitable risk/potentially higher profit -synthetic risk rate is a measure of the volatility of the participation unit. Historical data, such as those used when calculating the synthetic indicator, do not give the future profile profile and the risk of the subfund. The lowest category does not mean free risk investments. The owner qualifies the subfund to category 6, which means that the acquisition of participation units involves a high risk of losses. From investment in the units of participation subfunding, there are risks that are not included in the risk, which are not properly included in the nickname: credit risk: acquiring debt: acquiring The securities are associated with the risk of a possible inability to comply with the issuer of a given debt paper from the obligation of this debt securities. And the institution of joint investment. Fund may conclude contracts for the subject of instruments to reduce risk and ensure the performance of the portfolio. restrictions, category C is sold as part of the programs offered by the Funds such a subfund does not pay dividends. The income of the subfunduszups increases his assets and are reinvested. The Fund is selling and redeemed units of participation every day. mWIG40 and 10% from the WIBID rates O/N. Look: This sub -fund may not be the right investors who plan to withdraw their funds within 5 years. The contractor\\'s territory: Agreements concluded with specific contractors are exposed to the possible failure of these contractors from concluded contracts concluded with a sub -fund, which in effect can lead to a decrease in the value of the sub -fund\\'s assets. Liquidity: low liquidity means that there are not enough buyers or sellers of a given financial instrument, which means that the subfund will not be able to sell or buy financial instruments effectively. OP erection/risk related to the storage of assets: such as external events and operational errors, such improper internal control, errors of IT systems and human errors can lead to a decrease in the value of subfund\\'s assets. The source of derivative instruments can increase the risk of investment. Instructions derivatives: investment in use Detailed risk informationThe bound by investing in the Subfunds are in the information prospectus of the Fund in Chapter IV in part: Subfundusz BNP Paribas dynamic investing, point 1. One -off payment payments charged before or after the investment for the purchase 5.00%is the maximum amount that can be collected from the countries before investing for redemption for redemption. from the sub-fund during the year current payment 2.81%of the fee charged from the subfund in certain specific conditions for results0.00%results achieved in the past25%20%15%10%5%5%0%-5%-10%-15%201220120142015201620172018201920202021 ------------ ------- 17.6%-12.8%0.8%-0.5%21.9%20.4%-10.1%-3.1%-3.5%17.0 % Return rate of participation units Benchmarkinformations Practical. and the annual prospectus in order to protect investors, the assets and obligations of each sub -funds are by law separated from the assets and obligations of other sub -funds. An annual information prospectus together with the BNP Paribas FIO statute covering the subfund, other and semi -annual period reports periodic reports, fees and other additional information The subfund is available in Polish free of charge, at the website of the Society at ul. Grzybowska 78, 00-844 in Warsaw and at Distributors.internetowa www.tfi.bnpparibas.pl and the financial also in the first information about the sub-fund, including the current and historical value of the current and historical value to be obtained by phone at 22 588 18 87. Informations about participation units Tax in the Republic of Poland may have an impact on the personal tax situation of the investor. Fundneus provides for the possibilities of converting subfund participation into units of participation units of other sub -funds under BNP Paribas FIO. Details are described in the information prospectus. The payments incurred by the investor are used to cover the costs of the sub -fund, including distribution costs and placing on the market. These fees reduce the potential increase in investment in the subfund. In the event of a fee for the purchase and discontinuation fee, the maximum amount of fees is always given, despite the fact that in some cases these fees may be lower. , and the manipulative fee collected from the participant for selling units in the subfund, whose participation units are redeemed. The maximum amount of the exchange fee may not exceed 1.25% of the value of participation units subject to exchange. The conversion fee is the difference between the applicable fee for the purchase of participation units in the target fund and the fee charged from the participant for the purchase of the source fund. The maximum amount of the conversion fee may not be higher than 1.25% of the value of converted participation units. The amount of annual current fees is based on the expenses of the financial year completed in December 2021. The amount of current fees may change from year to year. The Society may collect the variable salary for management. This depends on the results of sub -fund management in an amount not higher than 20% of the increase in the net assets of the sub -funds per participation unit above the foot equal to the change in the value of the \"reference index\" defined in the statute. The detachive information on fees was described in Chapter IV: BNP Paribas subfund. Dynamic investment, in point 5. Fund\\'s information prospectus and are included in the table of fees available at the distributors and on the Society\\'s website. Unit of participation in the results achieved by the Subfund in the past do not guarantee the achievement of identical or similar results in the future. Excise indicates the result of the subfund, taking into account the costs incurred by the subfund. . During the calculations, fees for the purchase and redemption were omitted. The first valuation of the subfundneus: March 31, 2016, a reference union used to assess the outfund\\'s result, is the rate of return consisting of 60% of the return rate from the WIG20 index, 30% from the rate of return from the mWIG40 index. and 10% from the WIBID rate O/N.Fundusz provides for the possibility of converting the subfund\\'s participation units to participation units of another Management Fund'"
      ]
     },
     "execution_count": 89,
     "metadata": {},
     "output_type": "execute_result"
    }
   ],
   "source": [
    "txt_trans"
   ]
  },
  {
   "cell_type": "code",
   "execution_count": 54,
   "metadata": {},
   "outputs": [
    {
     "data": {
      "text/plain": [
       "1114154"
      ]
     },
     "execution_count": 54,
     "metadata": {},
     "output_type": "execute_result"
    }
   ],
   "source": [
    "len(func(txt))"
   ]
  },
  {
   "cell_type": "code",
   "execution_count": 52,
   "metadata": {},
   "outputs": [],
   "source": [
    "from googletrans import Translator\n",
    "\n",
    "translator = Translator()\n",
    "\n",
    "txt_trans = translator.translate(func(txt)[0:5000],src='pl', dest='en')"
   ]
  },
  {
   "cell_type": "code",
   "execution_count": 53,
   "metadata": {},
   "outputs": [
    {
     "data": {
      "text/plain": [
       "'Alior Towarzystwo Funduszy Inwestycyjnych S.A., ul. Łopuszańska 38d, 02-232 Warsaw T: +48 22 463 8888, f: +48 22 463 8889, E: biuro@alortfi.com, in: www.alortfi.com registered in the District Court for the Capital City of Warsaw Warsaw 14 You Alior stable for the future Alior Sustainable (previous name: Alior Fund Funds Funds Pretty Strategy) Global new technologies (previous name: Alior Fund Fund Active Strategy Strategy Strategy) Alior Action (previous name: Alior Fund fund dynamic strategy) Alior Savings (previous name: Alior Pieniężny) Alior Bonds (previous names: Alior Rentierski, Alior of Convergence, Alior World Bonds) Alior cautious (previous name Alior stable growth) The Fund can use the short name in the wording: Alior SFIO Firma and the seat of the Investment Fund Society: Alior Investment Funds Company Company Company Company Society based in Warsaw Awie website address: www.alortfi.com Date prepared the last text of the uniform information prospectus: October 10, 2022. Page 3 of 261 Chapter II. Data on the Society of Investment Funds 1. Company, country of headquarters, headquarters, address of the Society with telecommunications numbers, the main website address and e -mail address Company: Alior Towarzystwo Funduszy Inwestycyjnych Spółka Akcyjna Society may use the shortcut of the company: \"Alior TFI S.A. \"Country of headquarters: Polish headquarters: Warsaw Address: ul. Łopuszańska 38d, 02-232 Warsaw Telephone: (+48 22) 463 88 88 fax: (+48 22) 463 88 89 Internet: www.alortfi.com e-mail: biuro@alortfi.com 2. Date of permission to perform business by the Society on June 23, 2015, by decision No. DFI/II/4030/55/41/14/15/96 -1/AG, the Commission granted permission to perform activities by the Society. 3. The designation of the registry court and the number under which the company is registered. The company is registered in the District Court for the Capital City of Warsaw, XIV Economic Department of the National Register of the Court under the number KRS 0000350402. 4. The amount of equity\\'s own capital, including the amount of own capital components for the last balance sheet day as of December 31, 20, 21 year, the amount and components of the Society\\'s own capital were as follows: equity 9 501 984, 92 1. Primary capital 1 859 334.40 PLN 2. Spare capital 6 854 493, 69 PLN 3. Net profit/loss from previous years -2 825 743.49 PLN 4. Net profit/loss for 2021. 3 613 900, 32 PLN The source of the above data is the Society\\'s accounting books. 5. Information about the payment of the share capital of the Society Society in the amount of PLN 1,859 334.40 has been paid in full. 6. The company (name) and the seat of the dominant entity with the Society, with an indication of the features of this dominance and the company (name) or names and the seat of the Society\\'s shareholders, together with the number of votes at the general meeting of the Society\\'s shareholders, if the shareholder has at least 5 % of the total number of votes at the General Meeting of Shareholders The dominant entity against the Society is Alior Bank Spółka Akcyjna with headquarters in Warsaw at Łopuszański Street EJ 38D, 02 -232 Warsaw. Alior Bank S.A. It has 11,620,840 issuing shares by the Society, which represent 100% of the company\\'s share capital and give 100% votes at the General Meeting of Society shareholders. 7.1 Names of the members of the Society\\'s Management Board, with an indication of the functions performed on the board Andrzej Rosłaniec, President of the Management Board of the Society Artur Italian, a member of the board of the Society Konrad Augustyński, member of the board of the Society 7.2. Names Vice -chairman of the Supervisory Board of the Society Wojciech Nagel, a member of the Supervisory Board of the Society Piotr Szelenbaum, a member of the Supervisory Board of the Society 7.3 Names of natural persons responsible in the Society in the Society for manages not subfunds Fund U for managing subfunds separated as part of the Fund are: 1) Kamil Czapnik, a license broker (license No. 2126), investment advisor (license No. 389), 2) Konrad Augustyński, investment advisor (license No. 329). 3) Mateusz Ochocki, a broker of securities (license No. 2952), investment advisor (license No. 721), 8. Information about the persons listed in point 7 outside the Society, if this circumstance may be relevant to the situation of the participants of the Fund 8.1 for'"
      ]
     },
     "execution_count": 53,
     "metadata": {},
     "output_type": "execute_result"
    }
   ],
   "source": [
    "txt_trans.text"
   ]
  },
  {
   "cell_type": "code",
   "execution_count": null,
   "metadata": {},
   "outputs": [],
   "source": []
  }
 ],
 "metadata": {
  "kernelspec": {
   "display_name": "Python 3.9.13 ('bootcamp_env')",
   "language": "python",
   "name": "python3"
  },
  "language_info": {
   "codemirror_mode": {
    "name": "ipython",
    "version": 3
   },
   "file_extension": ".py",
   "mimetype": "text/x-python",
   "name": "python",
   "nbconvert_exporter": "python",
   "pygments_lexer": "ipython3",
   "version": "3.9.13"
  },
  "orig_nbformat": 4,
  "vscode": {
   "interpreter": {
    "hash": "010be4070843a6658dbc1e42310a022ac18d02eacc5583f83f4fe0998282958b"
   }
  }
 },
 "nbformat": 4,
 "nbformat_minor": 2
}
